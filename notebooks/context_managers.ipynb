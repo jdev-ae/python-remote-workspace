{
 "cells": [
  {
   "cell_type": "markdown",
   "metadata": {},
   "source": [
    "**Context Manager**\n",
    "\n",
    "**Syntax:**\n",
    "```py\n",
    "with ctx() as cx:\n",
    "    pass\n",
    "    # exection body\n",
    "```\n",
    "\n",
    "**Exaple:**\n",
    "```py\n",
    "with open('data.csv') as f:\n",
    "    for line in f.lines():\n",
    "        print(line)\n",
    "## f: closes automatically ##\n",
    "```\n",
    "\n",
    "**_Loose translation:_**\n",
    "```py\n",
    "cx = ctx()\n",
    "cx.__enter__()\n",
    "try:\n",
    "    pass\n",
    "    # exection body\n",
    "finally:\n",
    "    cx.__exit__()\n",
    "```\n",
    "\n",
    "**_To create a context manager:_**\n",
    "```py\n",
    "class ctx:\n",
    "    def __enter__(self):\n",
    "        pass # initial operations like connect to internet\n",
    "    \n",
    "    def __exit__(self, *_, **__):\n",
    "        pass # teardown operations like close the connection\n",
    "             # this should only happens when __enter__ is success...\n",
    "```"
   ]
  },
  {
   "cell_type": "markdown",
   "metadata": {},
   "source": [
    "#### Example:"
   ]
  },
  {
   "cell_type": "code",
   "execution_count": 18,
   "metadata": {},
   "outputs": [],
   "source": [
    "from sqlite3 import connect"
   ]
  },
  {
   "cell_type": "code",
   "execution_count": 19,
   "metadata": {},
   "outputs": [],
   "source": [
    "class temptable:\n",
    "    def __init__(self, cursor):\n",
    "        self.cursor = cursor\n",
    "        \n",
    "    def __enter__(self):\n",
    "        self.cursor.execute('create table temp_table (x int, y int);')\n",
    "        for x in range(10):\n",
    "            self.cursor.execute('insert into temp_table (x, y) values ({x}, {y});'.format(x=x, y=x * x))\n",
    "    \n",
    "    def __exit__(self, *_, **__):\n",
    "        self.cursor.execute('drop table temp_table;')"
   ]
  },
  {
   "cell_type": "code",
   "execution_count": 20,
   "metadata": {},
   "outputs": [
    {
     "name": "stdout",
     "output_type": "stream",
     "text": [
      "(0, 0)\n",
      "(1, 1)\n",
      "(2, 4)\n",
      "(3, 9)\n",
      "(4, 16)\n",
      "(5, 25)\n",
      "(6, 36)\n",
      "(7, 49)\n",
      "(8, 64)\n",
      "(9, 81)\n"
     ]
    },
    {
     "ename": "OperationalError",
     "evalue": "no such table: temp_table",
     "output_type": "error",
     "traceback": [
      "\u001b[0;31m---------------------------------------------------------------------------\u001b[0m",
      "\u001b[0;31mOperationalError\u001b[0m                          Traceback (most recent call last)",
      "\u001b[0;32m<ipython-input-20-9dd54310223b>\u001b[0m in \u001b[0;36m<module>\u001b[0;34m\u001b[0m\n\u001b[1;32m      4\u001b[0m         \u001b[0;32mfor\u001b[0m \u001b[0mrow\u001b[0m \u001b[0;32min\u001b[0m \u001b[0mcursor\u001b[0m\u001b[0;34m.\u001b[0m\u001b[0mexecute\u001b[0m\u001b[0;34m(\u001b[0m\u001b[0;34m'select * from temp_table;'\u001b[0m\u001b[0;34m)\u001b[0m\u001b[0;34m:\u001b[0m\u001b[0;34m\u001b[0m\u001b[0;34m\u001b[0m\u001b[0m\n\u001b[1;32m      5\u001b[0m             \u001b[0mprint\u001b[0m\u001b[0;34m(\u001b[0m\u001b[0mrow\u001b[0m\u001b[0;34m)\u001b[0m\u001b[0;34m\u001b[0m\u001b[0;34m\u001b[0m\u001b[0m\n\u001b[0;32m----> 6\u001b[0;31m     \u001b[0mcursor\u001b[0m\u001b[0;34m.\u001b[0m\u001b[0mexecute\u001b[0m\u001b[0;34m(\u001b[0m\u001b[0;34m'select * from temp_table;'\u001b[0m\u001b[0;34m)\u001b[0m\u001b[0;34m\u001b[0m\u001b[0;34m\u001b[0m\u001b[0m\n\u001b[0m",
      "\u001b[0;31mOperationalError\u001b[0m: no such table: temp_table"
     ]
    }
   ],
   "source": [
    "with connect('datasets/xy.db') as conn:\n",
    "    cursor = conn.cursor()\n",
    "    with temptable(cursor): # using the ctx manager\n",
    "        for row in cursor.execute('select * from temp_table;'):\n",
    "            print(row)\n",
    "    cursor.execute('select * from temp_table;') # out of context temptable temp_table already dropped by __exit__"
   ]
  },
  {
   "cell_type": "markdown",
   "metadata": {},
   "source": [
    "🔝🔝 `temp_table` not found because \n",
    "```py\n",
    " cursor.execute('select * from temp_table;')\n",
    "```\n",
    "statement is out of `temptable` context `__exit__` function already executed and droped the table"
   ]
  },
  {
   "cell_type": "code",
   "execution_count": null,
   "metadata": {},
   "outputs": [],
   "source": []
  }
 ],
 "metadata": {
  "kernelspec": {
   "display_name": "Python 3",
   "language": "python",
   "name": "python3"
  },
  "language_info": {
   "codemirror_mode": {
    "name": "ipython",
    "version": 3
   },
   "file_extension": ".py",
   "mimetype": "text/x-python",
   "name": "python",
   "nbconvert_exporter": "python",
   "pygments_lexer": "ipython3",
   "version": "3.6.7"
  }
 },
 "nbformat": 4,
 "nbformat_minor": 2
}
