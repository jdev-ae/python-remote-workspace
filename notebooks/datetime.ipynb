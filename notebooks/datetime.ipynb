{
 "cells": [
  {
   "cell_type": "markdown",
   "metadata": {},
   "source": [
    "## Python Date Time module"
   ]
  },
  {
   "cell_type": "code",
   "execution_count": 2,
   "metadata": {},
   "outputs": [],
   "source": [
    "# core module\n",
    "import datetime as dt"
   ]
  },
  {
   "cell_type": "code",
   "execution_count": 16,
   "metadata": {},
   "outputs": [
    {
     "data": {
      "text/plain": [
       "['MAXYEAR',\n",
       " 'MINYEAR',\n",
       " '__builtins__',\n",
       " '__cached__',\n",
       " '__doc__',\n",
       " '__file__',\n",
       " '__loader__',\n",
       " '__name__',\n",
       " '__package__',\n",
       " '__spec__',\n",
       " 'date',\n",
       " 'datetime',\n",
       " 'datetime_CAPI',\n",
       " 'sys',\n",
       " 'time',\n",
       " 'timedelta',\n",
       " 'timezone',\n",
       " 'tzinfo']"
      ]
     },
     "execution_count": 16,
     "metadata": {},
     "output_type": "execute_result"
    }
   ],
   "source": [
    "dir(dt)"
   ]
  },
  {
   "cell_type": "markdown",
   "metadata": {},
   "source": [
    "---\n",
    "### datetime.date\n",
    "* Only date"
   ]
  },
  {
   "cell_type": "code",
   "execution_count": 7,
   "metadata": {},
   "outputs": [
    {
     "data": {
      "text/plain": [
       "datetime.date(2019, 4, 12)"
      ]
     },
     "execution_count": 7,
     "metadata": {},
     "output_type": "execute_result"
    }
   ],
   "source": [
    "today = dt.date.today()\n",
    "today"
   ]
  },
  {
   "cell_type": "code",
   "execution_count": 18,
   "metadata": {},
   "outputs": [],
   "source": [
    "my_bday = dt.date(1992, 5, 15)"
   ]
  },
  {
   "cell_type": "code",
   "execution_count": 19,
   "metadata": {},
   "outputs": [
    {
     "data": {
      "text/plain": [
       "datetime.date(1992, 5, 15)"
      ]
     },
     "execution_count": 19,
     "metadata": {},
     "output_type": "execute_result"
    }
   ],
   "source": [
    "my_bday"
   ]
  },
  {
   "cell_type": "markdown",
   "metadata": {},
   "source": [
    "#### Convert from UNIX ts"
   ]
  },
  {
   "cell_type": "code",
   "execution_count": 20,
   "metadata": {},
   "outputs": [],
   "source": [
    "# 11/02/2012 @ 12:00am (UTC)\n",
    "ts = 1328918400"
   ]
  },
  {
   "cell_type": "code",
   "execution_count": 21,
   "metadata": {},
   "outputs": [],
   "source": [
    "my_date = dt.date.fromtimestamp(ts)"
   ]
  },
  {
   "cell_type": "code",
   "execution_count": 22,
   "metadata": {},
   "outputs": [
    {
     "data": {
      "text/plain": [
       "datetime.date(2012, 2, 11)"
      ]
     },
     "execution_count": 22,
     "metadata": {},
     "output_type": "execute_result"
    }
   ],
   "source": [
    "my_date"
   ]
  },
  {
   "cell_type": "code",
   "execution_count": 25,
   "metadata": {},
   "outputs": [
    {
     "name": "stdout",
     "output_type": "stream",
     "text": [
      "year: 2012\n",
      "month: 2\n",
      "day: 11\n"
     ]
    }
   ],
   "source": [
    "print(f'year: {my_date.year}')\n",
    "print(f'month: {my_date.month}')\n",
    "print(f'day: {my_date.day}')"
   ]
  },
  {
   "cell_type": "markdown",
   "metadata": {},
   "source": [
    "### datetime.time\n",
    "* Only time"
   ]
  },
  {
   "cell_type": "code",
   "execution_count": 34,
   "metadata": {},
   "outputs": [],
   "source": [
    "zero_time = dt.time()"
   ]
  },
  {
   "cell_type": "code",
   "execution_count": 35,
   "metadata": {},
   "outputs": [
    {
     "data": {
      "text/plain": [
       "datetime.time(0, 0)"
      ]
     },
     "execution_count": 35,
     "metadata": {},
     "output_type": "execute_result"
    }
   ],
   "source": [
    "zero_time"
   ]
  },
  {
   "cell_type": "code",
   "execution_count": 39,
   "metadata": {},
   "outputs": [],
   "source": [
    "t1 = dt.time(13, 22, 45, 837)"
   ]
  },
  {
   "cell_type": "code",
   "execution_count": 40,
   "metadata": {},
   "outputs": [
    {
     "data": {
      "text/plain": [
       "datetime.time(13, 22, 45, 837)"
      ]
     },
     "execution_count": 40,
     "metadata": {},
     "output_type": "execute_result"
    }
   ],
   "source": [
    "t1"
   ]
  },
  {
   "cell_type": "code",
   "execution_count": 41,
   "metadata": {},
   "outputs": [
    {
     "name": "stdout",
     "output_type": "stream",
     "text": [
      "H: 13\n",
      "M: 22\n",
      "S: 45\n",
      "μs: 837\n"
     ]
    }
   ],
   "source": [
    "print(f'H: {t1.hour}')\n",
    "print(f'M: {t1.minute}')\n",
    "print(f'S: {t1.second}')\n",
    "print(f'μs: {t1.microsecond}')"
   ]
  },
  {
   "cell_type": "markdown",
   "metadata": {},
   "source": [
    "### datetime.datetime\n",
    "* Combination of both date and time"
   ]
  },
  {
   "cell_type": "code",
   "execution_count": 45,
   "metadata": {},
   "outputs": [],
   "source": [
    "from datetime import datetime"
   ]
  },
  {
   "cell_type": "code",
   "execution_count": 46,
   "metadata": {},
   "outputs": [],
   "source": [
    "now = datetime.now()"
   ]
  },
  {
   "cell_type": "code",
   "execution_count": 50,
   "metadata": {},
   "outputs": [
    {
     "data": {
      "text/plain": [
       "datetime.datetime(2019, 4, 12, 11, 49, 53, 609010)"
      ]
     },
     "execution_count": 50,
     "metadata": {},
     "output_type": "execute_result"
    }
   ],
   "source": [
    "now"
   ]
  },
  {
   "cell_type": "markdown",
   "metadata": {},
   "source": [
    "> `datetime(year, month, day, hour, minute, second, microsecond)`"
   ]
  },
  {
   "cell_type": "code",
   "execution_count": 48,
   "metadata": {},
   "outputs": [],
   "source": [
    "my_dt = datetime(2009, 10, 19, 14, 55, 34, 2344)"
   ]
  },
  {
   "cell_type": "code",
   "execution_count": 49,
   "metadata": {},
   "outputs": [
    {
     "data": {
      "text/plain": [
       "datetime.datetime(2009, 10, 19, 14, 55, 34, 2344)"
      ]
     },
     "execution_count": 49,
     "metadata": {},
     "output_type": "execute_result"
    }
   ],
   "source": [
    "my_dt"
   ]
  },
  {
   "cell_type": "code",
   "execution_count": 51,
   "metadata": {},
   "outputs": [
    {
     "name": "stdout",
     "output_type": "stream",
     "text": [
      "2009-10-19 14:55:34.002344\n"
     ]
    }
   ],
   "source": [
    "print(my_dt)"
   ]
  },
  {
   "cell_type": "code",
   "execution_count": 54,
   "metadata": {},
   "outputs": [
    {
     "name": "stdout",
     "output_type": "stream",
     "text": [
      "year: 2009\n",
      "month: 10\n",
      "day: 19\n",
      "hour: 14\n",
      "minute: 55\n",
      "second: 34\n",
      "microsecond: 2344\n",
      "UNIX ts: 1255953334.002344\n"
     ]
    }
   ],
   "source": [
    "print(f'year: {my_dt.year}')\n",
    "print(f'month: {my_dt.month}')\n",
    "print(f'day: {my_dt.day}')\n",
    "print(f'hour: {my_dt.hour}')\n",
    "print(f'minute: {my_dt.minute}')\n",
    "print(f'second: {my_dt.second}')\n",
    "print(f'microsecond: {my_dt.microsecond}')\n",
    "print(f'UNIX ts: {my_dt.timestamp()}')"
   ]
  },
  {
   "cell_type": "code",
   "execution_count": 57,
   "metadata": {},
   "outputs": [
    {
     "data": {
      "text/plain": [
       "datetime.time(14, 55, 34, 2344)"
      ]
     },
     "execution_count": 57,
     "metadata": {},
     "output_type": "execute_result"
    }
   ],
   "source": [
    "my_dt.time() # returns datetime.time"
   ]
  },
  {
   "cell_type": "code",
   "execution_count": 58,
   "metadata": {},
   "outputs": [
    {
     "data": {
      "text/plain": [
       "datetime.date(2009, 10, 19)"
      ]
     },
     "execution_count": 58,
     "metadata": {},
     "output_type": "execute_result"
    }
   ],
   "source": [
    "my_dt.date() # returns datetime.date"
   ]
  },
  {
   "cell_type": "code",
   "execution_count": 59,
   "metadata": {},
   "outputs": [],
   "source": [
    "# 03/29/2009 @ 12:34pm (UTC)\n",
    "ts = 1238330084\n",
    "t2 = dt.fromtimestamp(ts)"
   ]
  },
  {
   "cell_type": "code",
   "execution_count": 60,
   "metadata": {},
   "outputs": [
    {
     "data": {
      "text/plain": [
       "datetime.datetime(2009, 3, 29, 15, 34, 44)"
      ]
     },
     "execution_count": 60,
     "metadata": {},
     "output_type": "execute_result"
    }
   ],
   "source": [
    "t2"
   ]
  },
  {
   "cell_type": "markdown",
   "metadata": {},
   "source": [
    "### datetime.timedelta\n",
    "* time difference b/w two datetimes"
   ]
  },
  {
   "cell_type": "code",
   "execution_count": 64,
   "metadata": {},
   "outputs": [],
   "source": [
    "from datetime import datetime, date, timedelta"
   ]
  },
  {
   "cell_type": "code",
   "execution_count": 62,
   "metadata": {},
   "outputs": [],
   "source": [
    "t1 = date(year = 2018, month = 7, day = 12)\n",
    "t2 = date(year = 2017, month = 12, day = 23)"
   ]
  },
  {
   "cell_type": "code",
   "execution_count": 65,
   "metadata": {},
   "outputs": [],
   "source": [
    "delta = t1 - t2"
   ]
  },
  {
   "cell_type": "code",
   "execution_count": 66,
   "metadata": {},
   "outputs": [
    {
     "name": "stdout",
     "output_type": "stream",
     "text": [
      "201 days, 0:00:00\n"
     ]
    }
   ],
   "source": [
    "print(delta)"
   ]
  },
  {
   "cell_type": "code",
   "execution_count": 68,
   "metadata": {},
   "outputs": [],
   "source": [
    "today = datetime.now()\n",
    "bday = datetime(1993, 5, 15, 12, 5, 0)"
   ]
  },
  {
   "cell_type": "code",
   "execution_count": 69,
   "metadata": {},
   "outputs": [
    {
     "name": "stdout",
     "output_type": "stream",
     "text": [
      "9462 days, 23:54:48.269060\n"
     ]
    }
   ],
   "source": [
    "age = today - bday\n",
    "print(age)"
   ]
  },
  {
   "cell_type": "code",
   "execution_count": 72,
   "metadata": {},
   "outputs": [],
   "source": [
    "date_diff = timedelta(days = 5, hours = 1, seconds = 33, microseconds = 233423)"
   ]
  },
  {
   "cell_type": "code",
   "execution_count": 74,
   "metadata": {},
   "outputs": [
    {
     "name": "stdout",
     "output_type": "stream",
     "text": [
      "435633.233423\n"
     ]
    }
   ],
   "source": [
    "print(date_diff.total_seconds())"
   ]
  },
  {
   "cell_type": "markdown",
   "metadata": {},
   "source": [
    "### Format datetime\n",
    "* `strftime()` : Convert `datetime` to `str` format\n",
    "    - The `strftime()` method is defined under classes `date`, `datetime` and `time`.\n",
    "* `strptime()` : Parse `str` date to `datetime` object"
   ]
  },
  {
   "cell_type": "markdown",
   "metadata": {},
   "source": [
    "<table>\n",
    "    <thead>\n",
    "        <tr>\n",
    "            <th>Code</th>\n",
    "            <th>Meaning</th>\n",
    "            <th>Example</th>\n",
    "        </tr>\n",
    "    </thead>\n",
    "    <tbody>\n",
    "        <tr>\n",
    "            <td><code>%a</code></td>\n",
    "            <td>Weekday as locale’s abbreviated name.</td>\n",
    "            <td><code>Mon</code></td>\n",
    "        </tr>\n",
    "        <tr>\n",
    "            <td><code>%A</code></td>\n",
    "            <td>Weekday as locale’s full name.</td>\n",
    "            <td><code>Monday</code></td>\n",
    "        </tr>\n",
    "        <tr>\n",
    "            <td><code>%w</code></td>\n",
    "            <td>Weekday as a decimal number, where 0 is Sunday and 6 is Saturday.</td>\n",
    "            <td><code>1</code></td>\n",
    "        </tr>\n",
    "        <tr>\n",
    "            <td><code>%d</code></td>\n",
    "            <td>Day of the month as a zero-padded decimal number.</td>\n",
    "            <td><code>30</code></td>\n",
    "        </tr>\n",
    "        <tr>\n",
    "            <td><code>%-d</code></td>\n",
    "            <td>Day of the month as a decimal number. (Platform specific)</td>\n",
    "            <td><code>30</code></td>\n",
    "        </tr>\n",
    "        <tr>\n",
    "            <td><code>%b</code></td>\n",
    "            <td>Month as locale’s abbreviated name.</td>\n",
    "            <td><code>Sep</code></td>\n",
    "        </tr>\n",
    "        <tr>\n",
    "            <td><code>%B</code></td>\n",
    "            <td>Month as locale’s full name.</td>\n",
    "            <td><code>September</code></td>\n",
    "        </tr>\n",
    "        <tr>\n",
    "            <td><code>%m</code></td>\n",
    "            <td>Month as a zero-padded decimal number.</td>\n",
    "            <td><code>09</code></td>\n",
    "        </tr>\n",
    "        <tr>\n",
    "            <td><code>%-m</code></td>\n",
    "            <td>Month as a decimal number. (Platform specific)</td>\n",
    "            <td><code>9</code></td>\n",
    "        </tr>\n",
    "        <tr>\n",
    "            <td><code>%y</code></td>\n",
    "            <td>Year without century as a zero-padded decimal number.</td>\n",
    "            <td><code>13</code></td>\n",
    "        </tr>\n",
    "        <tr>\n",
    "            <td><code>%Y</code></td>\n",
    "            <td>Year with century as a decimal number.</td>\n",
    "            <td><code>2013</code></td>\n",
    "        </tr>\n",
    "        <tr>\n",
    "            <td><code>%H</code></td>\n",
    "            <td>Hour (24-hour clock) as a zero-padded decimal number.</td>\n",
    "            <td><code>07</code></td>\n",
    "        </tr>\n",
    "        <tr>\n",
    "            <td><code>%-H</code></td>\n",
    "            <td>Hour (24-hour clock) as a decimal number. (Platform specific)</td>\n",
    "            <td><code>7</code></td>\n",
    "        </tr>\n",
    "        <tr>\n",
    "            <td><code>%I</code></td>\n",
    "            <td>Hour (12-hour clock) as a zero-padded decimal number.</td>\n",
    "            <td><code>07</code></td>\n",
    "        </tr>\n",
    "        <tr>\n",
    "            <td><code>%-I</code></td>\n",
    "            <td>Hour (12-hour clock) as a decimal number. (Platform specific)</td>\n",
    "            <td><code>7</code></td>\n",
    "        </tr>\n",
    "        <tr>\n",
    "            <td><code>%p</code></td>\n",
    "            <td>Locale’s equivalent of either AM or PM.</td>\n",
    "            <td><code>AM</code></td>\n",
    "        </tr>\n",
    "        <tr>\n",
    "            <td><code>%M</code></td>\n",
    "            <td>Minute as a zero-padded decimal number.</td>\n",
    "            <td><code>06</code></td>\n",
    "        </tr>\n",
    "        <tr>\n",
    "            <td><code>%-M</code></td>\n",
    "            <td>Minute as a decimal number. (Platform specific)</td>\n",
    "            <td><code>6</code></td>\n",
    "        </tr>\n",
    "        <tr>\n",
    "            <td><code>%S</code></td>\n",
    "            <td>Second as a zero-padded decimal number.</td>\n",
    "            <td><code>05</code></td>\n",
    "        </tr>\n",
    "        <tr>\n",
    "            <td><code>%-S</code></td>\n",
    "            <td>Second as a decimal number. (Platform specific)</td>\n",
    "            <td><code>5</code></td>\n",
    "        </tr>\n",
    "        <tr>\n",
    "            <td><code>%f</code></td>\n",
    "            <td>Microsecond as a decimal number, zero-padded on the left.</td>\n",
    "            <td><code>000000</code></td>\n",
    "        </tr>\n",
    "        <tr>\n",
    "            <td><code>%z</code></td>\n",
    "            <td>UTC offset in the form +HHMM or -HHMM (empty string if the the object is naive).</td>\n",
    "            <td><code></code></td>\n",
    "        </tr>\n",
    "        <tr>\n",
    "            <td><code>%Z</code></td>\n",
    "            <td>Time zone name (empty string if the object is naive).</td>\n",
    "            <td><code></code></td>\n",
    "        </tr>\n",
    "        <tr>\n",
    "            <td><code>%j</code></td>\n",
    "            <td>Day of the year as a zero-padded decimal number.</td>\n",
    "            <td><code>273</code></td>\n",
    "        </tr>\n",
    "        <tr>\n",
    "            <td><code>%-j</code></td>\n",
    "            <td>Day of the year as a decimal number. (Platform specific)</td>\n",
    "            <td><code>273</code></td>\n",
    "        </tr>\n",
    "        <tr>\n",
    "            <td><code>%U</code></td>\n",
    "            <td>Week number of the year (Sunday as the first day of the week) as a zero padded decimal number. All days\n",
    "                in a new year preceding the first Sunday are considered to be in week 0.</td>\n",
    "            <td><code>39</code></td>\n",
    "        </tr>\n",
    "        <tr>\n",
    "            <td><code>%W</code></td>\n",
    "            <td>Week number of the year (Monday as the first day of the week) as a decimal number. All days in a new\n",
    "                year preceding the first Monday are considered to be in week 0.</td>\n",
    "            <td><code>39</code></td>\n",
    "        </tr>\n",
    "        <tr>\n",
    "            <td><code>%c</code></td>\n",
    "            <td>Locale’s appropriate date and time representation.</td>\n",
    "            <td><code>Mon Sep 30 07:06:05 2013</code></td>\n",
    "        </tr>\n",
    "        <tr>\n",
    "            <td><code>%x</code></td>\n",
    "            <td>Locale’s appropriate date representation.</td>\n",
    "            <td><code>09/30/13</code></td>\n",
    "        </tr>\n",
    "        <tr>\n",
    "            <td><code>%X</code></td>\n",
    "            <td>Locale’s appropriate time representation.</td>\n",
    "            <td><code>07:06:05</code></td>\n",
    "        </tr>\n",
    "        <tr>\n",
    "            <td><code>%%</code></td>\n",
    "            <td>A literal '%' character.</td>\n",
    "            <td><code>%</code></td>\n",
    "        </tr>\n",
    "    </tbody>\n",
    "</table>"
   ]
  },
  {
   "cell_type": "code",
   "execution_count": 77,
   "metadata": {},
   "outputs": [],
   "source": [
    "now = datetime.now()"
   ]
  },
  {
   "cell_type": "code",
   "execution_count": null,
   "metadata": {},
   "outputs": [],
   "source": [
    "fmt = ''"
   ]
  }
 ],
 "metadata": {
  "kernelspec": {
   "display_name": "Python 3",
   "language": "python",
   "name": "python3"
  },
  "language_info": {
   "codemirror_mode": {
    "name": "ipython",
    "version": 3
   },
   "file_extension": ".py",
   "mimetype": "text/x-python",
   "name": "python",
   "nbconvert_exporter": "python",
   "pygments_lexer": "ipython3",
   "version": "3.6.7"
  }
 },
 "nbformat": 4,
 "nbformat_minor": 2
}
