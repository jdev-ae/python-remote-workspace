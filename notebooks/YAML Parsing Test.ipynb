{
 "cells": [
  {
   "cell_type": "markdown",
   "metadata": {},
   "source": [
    "#### YAML -> JSON conversion"
   ]
  },
  {
   "cell_type": "code",
   "execution_count": 1,
   "metadata": {},
   "outputs": [],
   "source": [
    "import yaml"
   ]
  },
  {
   "cell_type": "markdown",
   "metadata": {},
   "source": [
    "### example.yaml\n",
    "------------------------------------------\n",
    "\n",
    "```yaml\n",
    "env:\n",
    "  - name: INCLUDE_TEST_PIPELINES\n",
    "    value: FALSE\n",
    "  - name: AIRFLOW_KUBE_NAMESPACE\n",
    "    valueFrom:\n",
    "      fieldRef:\n",
    "        fieldPath: metadata.namespace\n",
    "  - name: SQL_ALCHEMY_CONN\n",
    "    valueFrom:\n",
    "      secretKeyRef:\n",
    "        name: airflow-secrets\n",
    "        key: sql_alchemy_conn\n",
    "```"
   ]
  },
  {
   "cell_type": "code",
   "execution_count": 9,
   "metadata": {},
   "outputs": [],
   "source": [
    "with open(\"example.yaml\", 'r') as stream:\n",
    "    try:\n",
    "        data = yaml.load(stream)\n",
    "    except yaml.YAMLError as exc:\n",
    "        print(exc)"
   ]
  },
  {
   "cell_type": "code",
   "execution_count": 10,
   "metadata": {},
   "outputs": [],
   "source": [
    "import json"
   ]
  },
  {
   "cell_type": "code",
   "execution_count": 14,
   "metadata": {},
   "outputs": [
    {
     "name": "stdout",
     "output_type": "stream",
     "text": [
      "{\n",
      "  \"env\": [\n",
      "    {\n",
      "      \"name\": \"INCLUDE_TEST_PIPELINES\",\n",
      "      \"value\": false\n",
      "    },\n",
      "    {\n",
      "      \"name\": \"AIRFLOW_KUBE_NAMESPACE\",\n",
      "      \"valueFrom\": {\n",
      "        \"fieldRef\": {\n",
      "          \"fieldPath\": \"metadata.namespace\"\n",
      "        }\n",
      "      }\n",
      "    },\n",
      "    {\n",
      "      \"name\": \"SQL_ALCHEMY_CONN\",\n",
      "      \"valueFrom\": {\n",
      "        \"secretKeyRef\": {\n",
      "          \"name\": \"airflow-secrets\",\n",
      "          \"key\": \"sql_alchemy_conn\"\n",
      "        }\n",
      "      }\n",
      "    }\n",
      "  ]\n",
      "}\n"
     ]
    }
   ],
   "source": [
    "print(json.dumps(data, indent=2))"
   ]
  },
  {
   "cell_type": "code",
   "execution_count": null,
   "metadata": {},
   "outputs": [],
   "source": []
  }
 ],
 "metadata": {
  "kernelspec": {
   "display_name": "Python 3",
   "language": "python",
   "name": "python3"
  },
  "language_info": {
   "codemirror_mode": {
    "name": "ipython",
    "version": 3
   },
   "file_extension": ".py",
   "mimetype": "text/x-python",
   "name": "python",
   "nbconvert_exporter": "python",
   "pygments_lexer": "ipython3",
   "version": "3.6.7"
  }
 },
 "nbformat": 4,
 "nbformat_minor": 2
}
